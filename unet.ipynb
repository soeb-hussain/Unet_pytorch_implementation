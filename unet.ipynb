{
 "cells": [
  {
   "cell_type": "code",
   "execution_count": 1,
   "id": "e557632d",
   "metadata": {},
   "outputs": [],
   "source": [
    "import torch\n",
    "import torch.nn as nn"
   ]
  },
  {
   "cell_type": "code",
   "execution_count": 13,
   "id": "9815cef9",
   "metadata": {},
   "outputs": [],
   "source": [
    "def double_conv(in_c,out_c):\n",
    "    conv = nn.Sequential(\n",
    "        nn.Conv2d(in_c,out_c,kernel_size=3),\n",
    "        nn.ReLU(inplace=True),\n",
    "        nn.Conv2d(out_c,out_c,kernel_size=3),\n",
    "        nn.ReLU(inplace=True),\n",
    "    )\n",
    "    return conv"
   ]
  },
  {
   "cell_type": "code",
   "execution_count": null,
   "id": "ada061e6",
   "metadata": {},
   "outputs": [],
   "source": [
    "def up_conv(in_c,out_c):   \n",
    "        self.up_trans_1 = nn.ConvTranspose2d(\n",
    "                in_channels=1024, \n",
    "                out_channels=512,\n",
    "                kernel_size = 2,\n",
    "                stride=2)\n",
    "        self.up_conv_1 = "
   ]
  },
  {
   "cell_type": "code",
   "execution_count": 30,
   "id": "34e0fe21",
   "metadata": {},
   "outputs": [],
   "source": [
    "def crop_img(tensor,target_tensor):\n",
    "    target_size = target_tensor.size()[2]\n",
    "    tensor_size = tensor.size()[2]\n",
    "    delta = abs(target_size - tensor_size)\n",
    "    delta = delta//2\n",
    "    return tensor[:,:,delta:(tensor_size-delta),delta:(tensor_size-delta)]\n",
    "    "
   ]
  },
  {
   "cell_type": "code",
   "execution_count": 37,
   "id": "1163fb16",
   "metadata": {},
   "outputs": [],
   "source": [
    "\n",
    "class UNet(nn.Module):\n",
    "    def __init__(self):\n",
    "        super(UNet, self).__init__()\n",
    "        self.max_pool_2x2 = nn.MaxPool2d(kernel_size=2,stride=2)\n",
    "        self.down_conv_1 = double_conv(1,64)\n",
    "        self.down_conv_2 = double_conv(64,128)\n",
    "        self.down_conv_3 = double_conv(128,256)\n",
    "        self.down_conv_4 = double_conv(256,512)\n",
    "        self.down_conv_5 = double_conv(512,1024)\n",
    "                \n",
    "        self.up_trans_1 = nn.ConvTranspose2d(\n",
    "                in_channels=1024, \n",
    "                out_channels=512,\n",
    "                kernel_size = 2,\n",
    "                stride=2)\n",
    "        self.up_conv_1 = double_conv(1024,512)\n",
    "        \n",
    "        self.up_trans_2 = nn.ConvTranspose2d(\n",
    "                in_channels=512, \n",
    "                out_channels=256,\n",
    "                kernel_size = 2,\n",
    "                stride=2)\n",
    "        self.up_conv_2 = double_conv(512,256)\n",
    "       \n",
    "        self.up_trans_3 = nn.ConvTranspose2d(\n",
    "                in_channels=256, \n",
    "                out_channels=128,\n",
    "                kernel_size = 2,\n",
    "                stride=2)\n",
    "        self.up_conv_3 = double_conv(256,128)\n",
    "\n",
    "        self.up_trans_4 = nn.ConvTranspose2d(\n",
    "                in_channels=128, \n",
    "                out_channels=64,\n",
    "                kernel_size = 2,\n",
    "                stride=2)\n",
    "        self.up_conv_4 = double_conv(128,64)\n",
    "        \n",
    "        self.out = nn.Conv2d(\n",
    "            in_channels=64,\n",
    "            out_channels = 2, # increase the channel if more class to segment\n",
    "            kernel_size = 1)\n",
    "\n",
    "    \n",
    "    def forward(self,image):\n",
    "        #encoder\n",
    "        # bs, c, h, w\n",
    "        x1 = self.down_conv_1(image) # \n",
    "        x2 = self.max_pool_2x2(x1)\n",
    "        x3 = self.down_conv_2(x2) #\n",
    "        x4 = self.max_pool_2x2(x3)\n",
    "        \n",
    "        \n",
    "        x5 = self.down_conv_3(x4) # \n",
    "        x6 = self.max_pool_2x2(x5)\n",
    "                               \n",
    "        x7 = self.down_conv_4(x6) #  \n",
    "        x8 = self.max_pool_2x2(x7)\n",
    "                               \n",
    "        x9 = self.down_conv_5(x8)\n",
    "        # print(x9.size())\n",
    "        # print(x10.size())\n",
    "        \n",
    "        #decoder\n",
    "        \n",
    "        # concatenate x with x7\n",
    "        x = self.up_trans_1(x9)\n",
    "        y = crop_img(x7,x)\n",
    "        x = self.up_conv_1(torch.cat([x,y],1))\n",
    "        #print(x.size())  # [1, 512, 56, 56]\n",
    "        #print(x7.size()) # [1, 512, 64, 64]\n",
    "        \n",
    "        x = self.up_trans_2(x)\n",
    "        y = crop_img(x5,x)\n",
    "        x = self.up_conv_2(torch.cat([x,y],1))\n",
    "        \n",
    "        x = self.up_trans_3(x)\n",
    "        y = crop_img(x3,x)\n",
    "        x = self.up_conv_3(torch.cat([x,y],1))\n",
    "        \n",
    "        x = self.up_trans_4(x)\n",
    "        y = crop_img(x1,x)\n",
    "        x = self.up_conv_4(torch.cat([x,y],1))\n",
    "        \n",
    "        x = self.out(x)\n",
    "        print(x.size())\n",
    "        \n",
    "\n",
    "    \n",
    "    \n",
    "    \n",
    "    "
   ]
  },
  {
   "cell_type": "code",
   "execution_count": 38,
   "id": "ab278cac",
   "metadata": {},
   "outputs": [
    {
     "name": "stdout",
     "output_type": "stream",
     "text": [
      "torch.Size([1, 64, 388, 388])\n",
      "None\n"
     ]
    }
   ],
   "source": [
    "if __name__ == \"__main__\":\n",
    "    image = torch.rand((1,1,572,572))\n",
    "    model = UNet()\n",
    "    print(model(image))"
   ]
  },
  {
   "cell_type": "code",
   "execution_count": null,
   "id": "bb3d6fac",
   "metadata": {},
   "outputs": [],
   "source": []
  },
  {
   "cell_type": "code",
   "execution_count": null,
   "id": "04105cbc",
   "metadata": {},
   "outputs": [],
   "source": []
  },
  {
   "cell_type": "code",
   "execution_count": null,
   "id": "022a15ae",
   "metadata": {},
   "outputs": [],
   "source": []
  }
 ],
 "metadata": {
  "kernelspec": {
   "display_name": "Python 3.9 (pytorch)",
   "language": "python",
   "name": "pytorch"
  },
  "language_info": {
   "codemirror_mode": {
    "name": "ipython",
    "version": 3
   },
   "file_extension": ".py",
   "mimetype": "text/x-python",
   "name": "python",
   "nbconvert_exporter": "python",
   "pygments_lexer": "ipython3",
   "version": "3.9.16"
  }
 },
 "nbformat": 4,
 "nbformat_minor": 5
}
